{
 "cells": [
  {
   "cell_type": "code",
   "execution_count": 1,
   "metadata": {},
   "outputs": [],
   "source": [
    "# Write a Python Program to implement your own myreduce() function which works exactly\n",
    "# like Python's built-in function reduce()"
   ]
  },
  {
   "cell_type": "code",
   "execution_count": 2,
   "metadata": {},
   "outputs": [
    {
     "name": "stdout",
     "output_type": "stream",
     "text": [
      "reduced value of list [47, 11, 42, 13] is 113\n"
     ]
    }
   ],
   "source": [
    "def myreduce(lst):\n",
    "  \"\"\"This function myreduce works in the same way as reduce in python\n",
    "    It will take the first 2 element in the list sum it and then add the sum\n",
    "    with the next list item ,untill it reduce to one total sum... \n",
    "    \"\"\"\n",
    "  temp_sum=0\n",
    "  for index, item in enumerate(lst):\n",
    "    if index==0:\n",
    "      temp_sum=lst[0]+lst[1]\n",
    "    elif index!=1:\n",
    "      temp_sum=temp_sum+item\n",
    "  return(temp_sum)\n",
    "\n",
    "choices = [47, 11, 42, 13]\n",
    "print('reduced value of list',choices ,'is',myreduce(choices))"
   ]
  },
  {
   "cell_type": "code",
   "execution_count": 3,
   "metadata": {},
   "outputs": [],
   "source": [
    "# Write a Python program to implement your own myfilter() function which works exactly like\n",
    "# Python's built-in function filter()"
   ]
  },
  {
   "cell_type": "code",
   "execution_count": 4,
   "metadata": {},
   "outputs": [
    {
     "name": "stdout",
     "output_type": "stream",
     "text": [
      "Even values present in  [1, 2, 3, 4, 5, 6, 7, 8, 9] is [2, 4, 6, 8]\n"
     ]
    }
   ],
   "source": [
    "def myfilter(my_rang):\n",
    "  \"\"\"This function myfilter works in the same way as filter in python\n",
    "    In filter the function will work on the iterartor and filter\n",
    "    the value as per the requirement of  the function... \n",
    "    \"\"\"\n",
    "  numbers = []\n",
    "  for i in my_range:\n",
    "    if i % 2 == 0:\n",
    "      numbers.append(i)\n",
    "  return(numbers)\n",
    "\n",
    "my_range =range(1,10)\n",
    "\n",
    "print('Even values present in ', list(my_range), 'is', myfilter(my_range))"
   ]
  },
  {
   "cell_type": "code",
   "execution_count": 5,
   "metadata": {},
   "outputs": [
    {
     "name": "stdout",
     "output_type": "stream",
     "text": [
      "Individual character of  acadgild is ['a', 'c', 'a', 'd', 'g', 'i', 'l', 'd']\n"
     ]
    }
   ],
   "source": [
    "# Split the string into individual character using List comprehension\n",
    "my_string = 'acadgild'\n",
    "print('Individual character of ',my_string ,'is',[i for i in my_string])"
   ]
  },
  {
   "cell_type": "code",
   "execution_count": 6,
   "metadata": {},
   "outputs": [
    {
     "name": "stdout",
     "output_type": "stream",
     "text": [
      "Printing the pattern\n",
      " ['x', 'xx', 'xxx', 'xxxx', 'y', 'yy', 'yyy', 'yyyy', 'z', 'zz', 'zzz', 'zzzz']\n"
     ]
    }
   ],
   "source": [
    "# For each character in seq_x,print once, twice,thrice and four times using List comprehension\n",
    "seq_x = 'xyz'\n",
    "print('Printing the pattern\\n',[(x*y) for x in seq_x for y in range(1,5)])\n"
   ]
  },
  {
   "cell_type": "code",
   "execution_count": 7,
   "metadata": {},
   "outputs": [
    {
     "name": "stdout",
     "output_type": "stream",
     "text": [
      "Printing the pattern\n",
      " ['x', 'y', 'z', 'xx', 'yy', 'zz', 'xxx', 'yyy', 'zzz', 'xxxx', 'yyyy', 'zzzz']\n"
     ]
    }
   ],
   "source": [
    "# Each charcter in seq_x is printed once, twice,thrice and four times using List comprehension\n",
    "seq_x = 'xyz'\n",
    "print('Printing the pattern\\n',[(x*y) for y in range(1,5) for x in seq_x ])"
   ]
  },
  {
   "cell_type": "code",
   "execution_count": 8,
   "metadata": {},
   "outputs": [
    {
     "name": "stdout",
     "output_type": "stream",
     "text": [
      "Printing the pattern\n",
      " [[2], [3], [4], [3], [4], [5], [4], [5], [6]]\n"
     ]
    }
   ],
   "source": [
    "# Printing the pattern as asked in the question using List comprehension\n",
    "seq_x = '123'\n",
    "print('Printing the pattern\\n',[[int(x)+y]  for x in seq_x  for y in range(1,4)])"
   ]
  },
  {
   "cell_type": "code",
   "execution_count": 9,
   "metadata": {},
   "outputs": [
    {
     "name": "stdout",
     "output_type": "stream",
     "text": [
      "Printing the pattern\n",
      " [[2, 3, 4, 5], [3, 4, 5, 6], [4, 5, 6, 7], [5, 6, 7, 8]]\n"
     ]
    }
   ],
   "source": [
    "# Printing the pattern as asked in the question using List comprehension\n",
    "seq_x = '1234'\n",
    "input = [int(x)+y  for x in seq_x  for y in range(1,5)]\n",
    "print('Printing the pattern\\n',[input[i:i+4] for i in range(0, len(input), 4)])  "
   ]
  },
  {
   "cell_type": "code",
   "execution_count": 10,
   "metadata": {},
   "outputs": [
    {
     "name": "stdout",
     "output_type": "stream",
     "text": [
      "[(1, 1), (2, 1), (3, 1), (1, 2), (2, 2), (3, 2), (1, 3), (2, 3), (3, 3)]\n"
     ]
    }
   ],
   "source": [
    "# Printing the pattern as asked in the question using List comprehension\n",
    "print([(y,x) for x in range(1,4) for y in range(1,4)])"
   ]
  },
  {
   "cell_type": "code",
   "execution_count": null,
   "metadata": {},
   "outputs": [],
   "source": [
    "# Implement a function longestWord() that takes a list of words and returns the longest one.\n",
    "def longestword(str1):\n",
    "  longest_word=''\n",
    "  for i in str1:\n",
    "    if len(i) > len(longest_word):\n",
    "      longest_word=i\n",
    "  return longest_word\n",
    "\n"
   ]
  },
  {
   "cell_type": "code",
   "execution_count": 3,
   "metadata": {},
   "outputs": [
    {
     "name": "stdout",
     "output_type": "stream",
     "text": [
      "enter the string you want to compare Is anaconda installed successfully\n",
      "The longest word in the entered sentence is   successfully\n"
     ]
    }
   ],
   "source": [
    "# Implement a function longestWord() that takes a list of words and returns the longest one.\n",
    "def longestword(str1):\n",
    "  longest_word=''\n",
    "  for i in str1:\n",
    "    if len(i) > len(longest_word):\n",
    "      longest_word=i\n",
    "  return longest_word\n",
    "\n",
    "word=input('enter the string you want to compare ')\n",
    "word_compare=word.split()\n",
    "print('The longest word in the entered sentence is  ',longestword(word_compare))"
   ]
  }
 ],
 "metadata": {
  "kernelspec": {
   "display_name": "Python 3",
   "language": "python",
   "name": "python3"
  }
 },
 "nbformat": 4,
 "nbformat_minor": 2
}
